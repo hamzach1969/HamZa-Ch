{
  "nbformat": 4,
  "nbformat_minor": 0,
  "metadata": {
    "colab": {
      "provenance": [],
      "authorship_tag": "ABX9TyNQp2HRGj1e2OeaDIABeAzj",
      "include_colab_link": true
    },
    "kernelspec": {
      "name": "python3",
      "display_name": "Python 3"
    },
    "language_info": {
      "name": "python"
    }
  },
  "cells": [
    {
      "cell_type": "markdown",
      "metadata": {
        "id": "view-in-github",
        "colab_type": "text"
      },
      "source": [
        "<a href=\"https://colab.research.google.com/github/hamzach1969/HamZa-Ch/blob/main/Assignment_No_2.ipynb\" target=\"_parent\"><img src=\"https://colab.research.google.com/assets/colab-badge.svg\" alt=\"Open In Colab\"/></a>"
      ]
    },
    {
      "cell_type": "code",
      "execution_count": 1,
      "metadata": {
        "colab": {
          "base_uri": "https://localhost:8080/"
        },
        "id": "X0yQ2t3P82wG",
        "outputId": "0a67c038-fd18-424b-8afe-5aa2c579024b"
      },
      "outputs": [
        {
          "output_type": "stream",
          "name": "stdout",
          "text": [
            "Vocabulary:  {'the': 11, 'good': 3, 'life': 6, 'is': 4, 'process': 9, 'not': 7, 'state': 10, 'of': 8, 'being': 0, 'it': 5, 'direction': 2, 'destination': 1}\n",
            "Encoded Document is:\n",
            "[[0 0 0 1 1 0 1 0 0 1 0 1]\n",
            " [1 0 0 0 0 0 0 1 1 0 1 0]\n",
            " [0 1 1 0 1 1 0 1 0 0 0 0]]\n"
          ]
        }
      ],
      "source": [
        "from sklearn.feature_extraction.text import CountVectorizer\n",
        " \n",
        "document = [\"The good life is a process\",\n",
        "            \"Not a state of being\",\n",
        "            \"It is a direction not a destination\"]\n",
        " \n",
        "# Create a Vectorizer Object\n",
        "vectorizer = CountVectorizer()\n",
        " \n",
        "vectorizer.fit(document)\n",
        " \n",
        "# Printing the identified Unique words along with their indices\n",
        "print(\"Vocabulary: \", vectorizer.vocabulary_)\n",
        " \n",
        "# Encode the Document\n",
        "vector = vectorizer.transform(document)\n",
        " \n",
        "# Summarizing the Encoded Texts\n",
        "print(\"Encoded Document is:\")\n",
        "print(vector.toarray())"
      ]
    }
  ]
}